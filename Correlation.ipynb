{
 "cells": [
  {
   "cell_type": "code",
   "execution_count": 115,
   "id": "8de339c3-a15a-451c-b17d-250de3ec872a",
   "metadata": {},
   "outputs": [],
   "source": [
    "import numpy as np\n",
    "import math"
   ]
  },
  {
   "cell_type": "code",
   "execution_count": 116,
   "id": "db4a56fd-32ad-43ee-875b-0d43c838f0c9",
   "metadata": {},
   "outputs": [],
   "source": [
    "feature1 = np.array([1, 2, 3, 4, 5])\n",
    "feature2 = np.array([5, 4, 3, 2, 1])"
   ]
  },
  {
   "cell_type": "code",
   "execution_count": 117,
   "id": "741ea0dd-e510-4577-aaa6-5e62351add76",
   "metadata": {},
   "outputs": [],
   "source": [
    "#feature1 = np.array([1, 2, 4, -1])\n",
    "#feature2 = np.array([1, -1, -5, 5])"
   ]
  },
  {
   "cell_type": "code",
   "execution_count": 118,
   "id": "cb129ba7-6afd-4e9c-9876-a556218785d3",
   "metadata": {},
   "outputs": [],
   "source": [
    "def get_correlation(feature1, feature2):\n",
    "    _potenciaFeature1 = np.power(feature1, 2)\n",
    "    _potenciaFeature2 = np.power(feature2, 2)\n",
    "    _multiplyFeature = feature1 * feature2\n",
    "    _numerador = feature1.size * _multiplyFeature.sum() - feature1.sum() * feature2.sum()\n",
    "    _sqrtFeature1 = math.sqrt(feature1.size * _potenciaFeature1.sum() - math.pow(feature1.sum(), 2))\n",
    "    _sqrtFeature2 = math.sqrt(feature2.size * _potenciaFeature2.sum() - math.pow(feature2.sum(), 2))\n",
    "    _result = _numerador / (_sqrtFeature1 * _sqrtFeature2)\n",
    "    return round(_result,3)"
   ]
  },
  {
   "cell_type": "code",
   "execution_count": 119,
   "id": "3cd504ee-8898-4e8a-bcf0-cca9fb32bdb1",
   "metadata": {},
   "outputs": [
    {
     "name": "stdout",
     "output_type": "stream",
     "text": [
      "-1.0\n"
     ]
    }
   ],
   "source": [
    "print(get_correlation(feature1, feature2))"
   ]
  }
 ],
 "metadata": {
  "kernelspec": {
   "display_name": "Python 3 (ipykernel)",
   "language": "python",
   "name": "python3"
  },
  "language_info": {
   "codemirror_mode": {
    "name": "ipython",
    "version": 3
   },
   "file_extension": ".py",
   "mimetype": "text/x-python",
   "name": "python",
   "nbconvert_exporter": "python",
   "pygments_lexer": "ipython3",
   "version": "3.12.0"
  }
 },
 "nbformat": 4,
 "nbformat_minor": 5
}
